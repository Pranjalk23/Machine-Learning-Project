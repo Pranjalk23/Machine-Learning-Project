{
 "cells": [
  {
   "cell_type": "markdown",
   "id": "29d18961-64cf-4a30-849b-52070ac45272",
   "metadata": {},
   "source": [
    "Pranjal Kashyap"
   ]
  },
  {
   "cell_type": "code",
   "execution_count": null,
   "id": "0e24ff2a-328a-4725-8bec-7f684c9ecad9",
   "metadata": {},
   "outputs": [],
   "source": [
    "import pandas as pd\n",
    "import numpy as np"
   ]
  },
  {
   "cell_type": "code",
   "execution_count": null,
   "id": "acd4486a-4fd1-4e3a-92c3-85fa071bf9c0",
   "metadata": {},
   "outputs": [],
   "source": [
    "data = pd.read_csv(\"Downloads/Bengaluru_House_Data.csv\")\n",
    "data"
   ]
  },
  {
   "cell_type": "code",
   "execution_count": null,
   "id": "cdf0a74e-ee36-461d-bfc9-6fdb15826570",
   "metadata": {},
   "outputs": [],
   "source": [
    "data.shape"
   ]
  },
  {
   "cell_type": "code",
   "execution_count": null,
   "id": "44ef76a9-96ea-4556-b1e8-cc7428404555",
   "metadata": {},
   "outputs": [],
   "source": [
    "data.info()"
   ]
  },
  {
   "cell_type": "code",
   "execution_count": null,
   "id": "85295541-4186-4a56-ba7a-65761edeb649",
   "metadata": {},
   "outputs": [],
   "source": [
    "data.isnull().sum()"
   ]
  },
  {
   "cell_type": "code",
   "execution_count": null,
   "id": "7ef3ad2f-4809-4674-9117-5214cc7e66bd",
   "metadata": {
    "scrolled": true
   },
   "outputs": [],
   "source": [
    "for column in data.columns:\n",
    "    print(data[column].value_counts())\n",
    "    print('*'*20)"
   ]
  },
  {
   "cell_type": "code",
   "execution_count": null,
   "id": "4f673f71-6565-481e-adf8-d7f847fc3a9a",
   "metadata": {},
   "outputs": [],
   "source": [
    "data['location'].fillna(data['location'].mode()[0], inplace = True)"
   ]
  },
  {
   "cell_type": "code",
   "execution_count": null,
   "id": "650cf553-34c4-44d7-9885-424960b9d160",
   "metadata": {},
   "outputs": [],
   "source": [
    "data['size'].fillna(data['size'].mode()[0], inplace = True)"
   ]
  },
  {
   "cell_type": "code",
   "execution_count": null,
   "id": "f97daede-7dc4-4c93-98e7-66be18138ad9",
   "metadata": {},
   "outputs": [],
   "source": [
    "data['society'].fillna(data['society'].mode()[0], inplace = True)"
   ]
  },
  {
   "cell_type": "code",
   "execution_count": null,
   "id": "9108cb4c-7907-4825-b034-d7dc76ee836e",
   "metadata": {},
   "outputs": [],
   "source": [
    "data['bath'].fillna(data['bath'].mean(), inplace = True)"
   ]
  },
  {
   "cell_type": "code",
   "execution_count": null,
   "id": "edc87322-2188-4b8c-afb9-6f939a5b9172",
   "metadata": {},
   "outputs": [],
   "source": [
    "data['balcony'].fillna(data['balcony'].mode()[0], inplace = True)"
   ]
  },
  {
   "cell_type": "code",
   "execution_count": null,
   "id": "c7f9adf7-4954-4801-b253-d9bdac21cfaf",
   "metadata": {},
   "outputs": [],
   "source": [
    "data.isnull().sum()"
   ]
  },
  {
   "cell_type": "code",
   "execution_count": null,
   "id": "66c867ec-542e-4a39-917a-0089ee978dae",
   "metadata": {},
   "outputs": [],
   "source": [
    "data.info()"
   ]
  },
  {
   "cell_type": "code",
   "execution_count": null,
   "id": "5b7392ce-3714-4a6a-ac6a-38a497fee9c9",
   "metadata": {},
   "outputs": [],
   "source": [
    "data.drop(columns = ['area_type','availability'], inplace=True)"
   ]
  },
  {
   "cell_type": "code",
   "execution_count": null,
   "id": "852d756d-92cf-4c49-a32f-e5dc1cc712a6",
   "metadata": {},
   "outputs": [],
   "source": [
    "data"
   ]
  },
  {
   "cell_type": "code",
   "execution_count": null,
   "id": "f29c338c-90ce-4a02-8808-a37ab38b55a8",
   "metadata": {},
   "outputs": [],
   "source": [
    "data.describe()"
   ]
  },
  {
   "cell_type": "code",
   "execution_count": null,
   "id": "02cde771-ecb4-47b6-af4a-31406f00e033",
   "metadata": {},
   "outputs": [],
   "source": [
    "data['bhk'] = data['size'].str.split().str.get(0).astype(int)"
   ]
  },
  {
   "cell_type": "code",
   "execution_count": null,
   "id": "e7c9021a-b4a1-4978-83e8-9d71bc163a16",
   "metadata": {},
   "outputs": [],
   "source": [
    "data[data.bhk > 20]"
   ]
  },
  {
   "cell_type": "code",
   "execution_count": null,
   "id": "e92b402c-da48-438e-8ffc-5f20e2377171",
   "metadata": {},
   "outputs": [],
   "source": [
    "data['total_sqft'].unique()"
   ]
  },
  {
   "cell_type": "code",
   "execution_count": null,
   "id": "36078d35-a13e-47b6-b806-bc250e48773a",
   "metadata": {},
   "outputs": [],
   "source": [
    "def convertRange(x):\n",
    "\n",
    "    temp = x.split('-')\n",
    "    if len(temp) == 2:\n",
    "        return (float(temp[0]) + float(temp[1]))/2\n",
    "    try:\n",
    "        return float(x)\n",
    "    except:\n",
    "        return None\n",
    "        "
   ]
  },
  {
   "cell_type": "code",
   "execution_count": null,
   "id": "98c6b0f9-73d3-4518-b4d6-a8f594b566b9",
   "metadata": {},
   "outputs": [],
   "source": [
    "data['total_sqft'] = data['total_sqft'].apply(convertRange)"
   ]
  },
  {
   "cell_type": "code",
   "execution_count": null,
   "id": "a489acdb-31c5-4fe8-a138-fc34262f7e53",
   "metadata": {},
   "outputs": [],
   "source": [
    "data['price_per_sqft'] = data['price']*100000 / data['total_sqft']"
   ]
  },
  {
   "cell_type": "code",
   "execution_count": null,
   "id": "a53eb968-7bf5-40e1-9106-eb4d55d963f2",
   "metadata": {},
   "outputs": [],
   "source": [
    "data['price_per_sqft']"
   ]
  },
  {
   "cell_type": "code",
   "execution_count": null,
   "id": "908696d9-84ce-4697-8ac8-b2a16d56a4b7",
   "metadata": {},
   "outputs": [],
   "source": [
    "data.describe()"
   ]
  },
  {
   "cell_type": "code",
   "execution_count": null,
   "id": "1dad122a-7017-4258-be1d-d4904a0ce197",
   "metadata": {},
   "outputs": [],
   "source": [
    "data['location'].value_counts()"
   ]
  },
  {
   "cell_type": "code",
   "execution_count": null,
   "id": "3a2b18a3-65e6-428c-85f5-a7b2208d7cfc",
   "metadata": {},
   "outputs": [],
   "source": [
    "data['location'] = data['location'].apply(lambda x: x.strip())\n",
    "location_count = data['location'].value_counts()\n",
    "location_count"
   ]
  },
  {
   "cell_type": "code",
   "execution_count": null,
   "id": "955fb753-58cc-44d9-9d54-35ec6bc4330b",
   "metadata": {},
   "outputs": [],
   "source": [
    "loctaion_count_less10 = location_count[location_count <= 10]\n",
    "loctaion_count_less10"
   ]
  },
  {
   "cell_type": "code",
   "execution_count": null,
   "id": "8a200b04-4f3e-4158-ad1e-c4859db36f1e",
   "metadata": {},
   "outputs": [],
   "source": [
    "data['location'] = data['location'].apply(lambda x: 'other' if x in loctaion_count_less10 else x)"
   ]
  },
  {
   "cell_type": "code",
   "execution_count": null,
   "id": "76090421-05cd-49ea-98d9-6b3cf2abcd51",
   "metadata": {},
   "outputs": [],
   "source": [
    "data['location'].value_counts()"
   ]
  },
  {
   "cell_type": "markdown",
   "id": "5f25439d-2002-42f3-a8f7-0220d1166b06",
   "metadata": {},
   "source": [
    "Outlier"
   ]
  },
  {
   "cell_type": "code",
   "execution_count": null,
   "id": "56c048c6-598d-4d6a-a1f3-14814f49e4b6",
   "metadata": {},
   "outputs": [],
   "source": [
    "data.describe()"
   ]
  },
  {
   "cell_type": "code",
   "execution_count": null,
   "id": "94e135df-3c79-4ad4-a4ed-239812cc4c38",
   "metadata": {},
   "outputs": [],
   "source": [
    "(data['total_sqft']/data['bhk']).describe()"
   ]
  },
  {
   "cell_type": "code",
   "execution_count": null,
   "id": "d20b6744-b6cd-4fe4-bbcf-d12cdbc99a06",
   "metadata": {},
   "outputs": [],
   "source": [
    "data = data[(data['total_sqft']/data['bhk']) >= 300]\n",
    "data.describe()"
   ]
  },
  {
   "cell_type": "code",
   "execution_count": null,
   "id": "915f1b9f-49d6-4f91-b5f6-59326bf34299",
   "metadata": {},
   "outputs": [],
   "source": [
    "data.shape"
   ]
  },
  {
   "cell_type": "code",
   "execution_count": null,
   "id": "ac5265d6-0a31-4210-8949-c5203d431755",
   "metadata": {},
   "outputs": [],
   "source": [
    "data['price_per_sqft'].describe()"
   ]
  },
  {
   "cell_type": "code",
   "execution_count": null,
   "id": "63aa8827-60f8-4047-8fc1-002ba46abed1",
   "metadata": {},
   "outputs": [],
   "source": [
    "def remove_outliers_sqft(df):\n",
    "    df_output = pd.DataFrame()\n",
    "    for key, subdf in df.groupby('location'):\n",
    "        m = np.mean(subdf.price_per_sqft)\n",
    "\n",
    "        st = np.std(subdf.price_per_sqft)\n",
    "\n",
    "        gen_df = subdf[(subdf.price_per_sqft > (m-st)) & (subdf.price_per_sqft <= (m+st))]\n",
    "        df_output = pd.concat([df_output,gen_df], ignore_index=True)\n",
    "    return df_output\n",
    "data = remove_outliers_sqft(data)\n",
    "data.describe()"
   ]
  },
  {
   "cell_type": "code",
   "execution_count": null,
   "id": "10501fd8-f445-4fcf-9f3b-5af0746150e5",
   "metadata": {},
   "outputs": [],
   "source": [
    "def bh_outlier_remover(df):\n",
    "    exclude_indices = np.array([])\n",
    "    for location, location_df in df.groupby('location'):\n",
    "        bhk_stats = {}\n",
    "        for bhk, bhk_df in location_df.groupby('bhk'):\n",
    "            bhk_stats[bhk] = {\n",
    "                'mean': np.mean(bhk_df.price_per_sqft),\n",
    "                'std': np.std(bhk_df.price_per_sqft),\n",
    "                'count': bhk_df.shape[0]\n",
    "\n",
    "            }\n",
    "\n",
    "        for bhk, bhk_df in location_df.groupby('bhk'):\n",
    "            stats = bhk_stats.get(bhk-1)\n",
    "            if stats and stats['count']>5:\n",
    "                exclude_indices = np.append(exclude_indices, bhk_df[bhk_df.price_per_sqft<(stats['mean'])].index.values)\n",
    "    return df.drop(exclude_indices, axis= 'index')"
   ]
  },
  {
   "cell_type": "code",
   "execution_count": null,
   "id": "d1520af0-42c3-4f30-880c-ee7223b60591",
   "metadata": {},
   "outputs": [],
   "source": [
    "data = bh_outlier_remover(data)"
   ]
  },
  {
   "cell_type": "code",
   "execution_count": null,
   "id": "1dd65f4e-792c-4275-a4ca-047f232e1a17",
   "metadata": {},
   "outputs": [],
   "source": [
    "data.shape"
   ]
  },
  {
   "cell_type": "code",
   "execution_count": null,
   "id": "4bf7a5ea-af82-446c-8854-825331a028fa",
   "metadata": {},
   "outputs": [],
   "source": [
    "data"
   ]
  },
  {
   "cell_type": "code",
   "execution_count": null,
   "id": "0f2dd1e9-a4e5-4a70-b8ce-257f35276513",
   "metadata": {},
   "outputs": [],
   "source": []
  },
  {
   "cell_type": "markdown",
   "id": "1923bd3e-4cd8-409c-b2cd-81700bc20599",
   "metadata": {},
   "source": [
    " Cleaned Data"
   ]
  },
  {
   "cell_type": "code",
   "execution_count": null,
   "id": "68b125c1-f615-4b53-b5d3-f2017449e565",
   "metadata": {},
   "outputs": [],
   "source": [
    "data.head()"
   ]
  },
  {
   "cell_type": "code",
   "execution_count": null,
   "id": "d28a8e80-0823-4f5d-b41e-31623896e9e0",
   "metadata": {},
   "outputs": [],
   "source": [
    "data.to_csv(\"Cleaned_Data.csv\")"
   ]
  },
  {
   "cell_type": "code",
   "execution_count": null,
   "id": "d0e07a2e-0831-4d55-9c7d-a773312ff7da",
   "metadata": {},
   "outputs": [],
   "source": [
    "x = data.drop(columns= ['price'])\n",
    "y = data['price']"
   ]
  },
  {
   "cell_type": "code",
   "execution_count": null,
   "id": "257c8748-03f5-471a-9a41-11451eeea3e0",
   "metadata": {},
   "outputs": [],
   "source": [
    "from sklearn.model_selection import train_test_split\n",
    "from sklearn.linear_model import LinearRegression\n",
    "from sklearn.preprocessing import OneHotEncoder, StandardScaler\n",
    "from sklearn.compose import make_column_transformer\n",
    "from sklearn.pipeline import make_pipeline\n",
    "from sklearn.metrics import r2_score"
   ]
  },
  {
   "cell_type": "code",
   "execution_count": null,
   "id": "d9be72fe-030f-4fc0-9d26-2fb9d15fcc6a",
   "metadata": {},
   "outputs": [],
   "source": [
    "x_train, x_test, y_train, y_test = train_test_split(x,y, test_size=0.2, random_state=42)\n",
    "x_train.shape, x_test.shape, y_train.shape, y_test.shape"
   ]
  },
  {
   "cell_type": "code",
   "execution_count": null,
   "id": "02871fda-1387-42b7-ac0c-fffd144fa5c2",
   "metadata": {},
   "outputs": [],
   "source": [
    "column_trans = make_column_transformer((OneHotEncoder(sparse_output=False), ['location']), remainder='passthrough')"
   ]
  },
  {
   "cell_type": "code",
   "execution_count": null,
   "id": "96a0a486-5ccc-4e03-a6b5-edcf3cdcddb6",
   "metadata": {},
   "outputs": [],
   "source": [
    "ss = StandardScaler() "
   ]
  },
  {
   "cell_type": "code",
   "execution_count": null,
   "id": "4a833dfd-de8b-4047-9acb-c154d40a2ce2",
   "metadata": {},
   "outputs": [],
   "source": [
    "lr = LinearRegression()"
   ]
  },
  {
   "cell_type": "code",
   "execution_count": null,
   "id": "f26250c1-52c0-49e4-b5f7-53c27bc1c278",
   "metadata": {},
   "outputs": [],
   "source": []
  },
  {
   "cell_type": "code",
   "execution_count": null,
   "id": "397256e9-a079-473d-8b1d-d7e45ccd777e",
   "metadata": {},
   "outputs": [],
   "source": [
    "pipe = make_pipeline(\n",
    "    OneHotEncoder(handle_unknown='ignore'),\n",
    "    StandardScaler(with_mean=False),\n",
    "    LinearRegression())"
   ]
  },
  {
   "cell_type": "code",
   "execution_count": null,
   "id": "90ecbb14-eb9f-47da-ac6e-2e9d06b333ee",
   "metadata": {},
   "outputs": [],
   "source": [
    "pipe.fit(x_train,y_train)"
   ]
  },
  {
   "cell_type": "code",
   "execution_count": null,
   "id": "ab6998d2-e471-4dfb-9ddd-b83311f61d63",
   "metadata": {},
   "outputs": [],
   "source": [
    "pred = pipe.predict(x_test)"
   ]
  },
  {
   "cell_type": "code",
   "execution_count": null,
   "id": "39abd8e6-7c72-418e-8423-69216388bdd0",
   "metadata": {},
   "outputs": [],
   "source": [
    "r2_score(y_test, pred)*100"
   ]
  },
  {
   "cell_type": "code",
   "execution_count": null,
   "id": "51ee76ce-0e01-4cc1-a019-10400b653c23",
   "metadata": {},
   "outputs": [],
   "source": [
    "from sklearn.linear_model import Lasso,Ridge"
   ]
  },
  {
   "cell_type": "code",
   "execution_count": null,
   "id": "b7e3b19f-942b-48a8-abe7-bd483e7c09de",
   "metadata": {},
   "outputs": [],
   "source": [
    "la = Lasso()"
   ]
  },
  {
   "cell_type": "code",
   "execution_count": null,
   "id": "655f6083-e961-4ee7-9787-ce1eb491cf6e",
   "metadata": {},
   "outputs": [],
   "source": [
    "pipe = make_pipeline(column_trans, ss, la)"
   ]
  },
  {
   "cell_type": "code",
   "execution_count": null,
   "id": "81d9a93b-ea9b-42f8-b078-347184fe4f0f",
   "metadata": {},
   "outputs": [],
   "source": [
    "pipe.fit(x_train, y_train)"
   ]
  },
  {
   "cell_type": "code",
   "execution_count": null,
   "id": "108c5b95-dd25-4f7e-90b3-23a8235d2584",
   "metadata": {},
   "outputs": [],
   "source": [
    "pred1 = pipe.predict(x_test)\n",
    "r2_score(y_test, pred1)*100"
   ]
  },
  {
   "cell_type": "code",
   "execution_count": null,
   "id": "30954df6-530a-4acc-8713-e5698d4ec3e9",
   "metadata": {},
   "outputs": [],
   "source": [
    "ri = Ridge()"
   ]
  },
  {
   "cell_type": "code",
   "execution_count": null,
   "id": "bab4bcbc-7306-4690-b204-fbb3fd939adb",
   "metadata": {},
   "outputs": [],
   "source": [
    "pipe = make_pipeline(column_trans, ss, ri)"
   ]
  },
  {
   "cell_type": "code",
   "execution_count": null,
   "id": "6840be2f-ada0-40f1-8d20-6d0513b1d6aa",
   "metadata": {},
   "outputs": [],
   "source": [
    "pipe.fit(x_train, y_train)"
   ]
  },
  {
   "cell_type": "code",
   "execution_count": null,
   "id": "2023890f-53e5-4e07-ad61-cc26c1505d1d",
   "metadata": {},
   "outputs": [],
   "source": [
    "pred2 = pipe.predict(x_test)\n",
    "r2_score(y_test, pred2)*100"
   ]
  },
  {
   "cell_type": "code",
   "execution_count": null,
   "id": "4100c686-2af0-4cf6-a7ab-a0812f64decb",
   "metadata": {},
   "outputs": [],
   "source": [
    "import pickle"
   ]
  },
  {
   "cell_type": "code",
   "execution_count": null,
   "id": "df922f7b-8b76-49f0-8c0b-022a03ac7484",
   "metadata": {},
   "outputs": [],
   "source": [
    "pickle.dump(pipe, open('RidgeModel.pkl','wb'))"
   ]
  },
  {
   "cell_type": "code",
   "execution_count": null,
   "id": "f062c5a7-7955-416c-92d7-18dbc86e0063",
   "metadata": {},
   "outputs": [],
   "source": []
  },
  {
   "cell_type": "code",
   "execution_count": null,
   "id": "70321928-959d-4552-92c1-017d478f4b69",
   "metadata": {},
   "outputs": [],
   "source": []
  },
  {
   "cell_type": "code",
   "execution_count": null,
   "id": "919eed15-d4ec-4727-b2cd-d2867505c82a",
   "metadata": {},
   "outputs": [],
   "source": []
  },
  {
   "cell_type": "code",
   "execution_count": null,
   "id": "c5525248-97ae-4b28-ba69-42d210b187e1",
   "metadata": {},
   "outputs": [],
   "source": []
  },
  {
   "cell_type": "code",
   "execution_count": null,
   "id": "8adba2ce-f35e-4bba-9892-86f3903829d0",
   "metadata": {},
   "outputs": [],
   "source": []
  },
  {
   "cell_type": "code",
   "execution_count": null,
   "id": "fbc924d1-4ef0-4199-bf18-226dcd7e3323",
   "metadata": {},
   "outputs": [],
   "source": []
  },
  {
   "cell_type": "code",
   "execution_count": null,
   "id": "004af47f-ee91-4a28-b14a-9d36810916aa",
   "metadata": {},
   "outputs": [],
   "source": []
  },
  {
   "cell_type": "code",
   "execution_count": null,
   "id": "f502dd2a-b153-4b69-9c64-53f03dc7ab77",
   "metadata": {},
   "outputs": [],
   "source": []
  },
  {
   "cell_type": "code",
   "execution_count": null,
   "id": "60f03f69-d4c8-44fb-8be7-3c466dd37c96",
   "metadata": {},
   "outputs": [],
   "source": []
  },
  {
   "cell_type": "code",
   "execution_count": null,
   "id": "ebf94f10-2213-430e-b0bb-e34174e6c827",
   "metadata": {},
   "outputs": [],
   "source": []
  },
  {
   "cell_type": "code",
   "execution_count": null,
   "id": "95680f66-9bdd-45b6-9a26-2b32595b4c98",
   "metadata": {},
   "outputs": [],
   "source": []
  },
  {
   "cell_type": "code",
   "execution_count": null,
   "id": "2c7a319a-e77c-4946-a810-516e5c5d604b",
   "metadata": {},
   "outputs": [],
   "source": []
  },
  {
   "cell_type": "code",
   "execution_count": null,
   "id": "6e9a7b15-9977-4fdf-b764-c13037a9eea7",
   "metadata": {},
   "outputs": [],
   "source": []
  },
  {
   "cell_type": "code",
   "execution_count": null,
   "id": "de8111d7-c47c-4168-8aaf-a4e33e2d70d5",
   "metadata": {},
   "outputs": [],
   "source": []
  },
  {
   "cell_type": "code",
   "execution_count": null,
   "id": "6f557c22-8e1a-4cea-905f-6cd40bce1ddc",
   "metadata": {},
   "outputs": [],
   "source": []
  },
  {
   "cell_type": "code",
   "execution_count": null,
   "id": "6013012f-eb7a-49b1-9dec-840c29450509",
   "metadata": {},
   "outputs": [],
   "source": []
  },
  {
   "cell_type": "code",
   "execution_count": null,
   "id": "b877a93d-708a-4685-bd01-ece7beba5fa1",
   "metadata": {},
   "outputs": [],
   "source": []
  },
  {
   "cell_type": "code",
   "execution_count": null,
   "id": "8cabfe82-672b-4890-a03e-21671aa396a5",
   "metadata": {},
   "outputs": [],
   "source": []
  },
  {
   "cell_type": "code",
   "execution_count": null,
   "id": "96c5c9b7-a7d1-4488-b8e9-fb535e54606f",
   "metadata": {},
   "outputs": [],
   "source": []
  },
  {
   "cell_type": "code",
   "execution_count": null,
   "id": "d0da2f08-5219-4658-95c7-0101fe08a6ec",
   "metadata": {},
   "outputs": [],
   "source": []
  },
  {
   "cell_type": "code",
   "execution_count": null,
   "id": "5876035e-094f-4427-b002-e0a54c1c59cc",
   "metadata": {},
   "outputs": [],
   "source": []
  },
  {
   "cell_type": "code",
   "execution_count": null,
   "id": "387caf3b-2fc6-4b46-9477-648cd0fa3af5",
   "metadata": {},
   "outputs": [],
   "source": []
  },
  {
   "cell_type": "code",
   "execution_count": null,
   "id": "c5aee101-13fd-4697-af02-315005119c0e",
   "metadata": {},
   "outputs": [],
   "source": []
  },
  {
   "cell_type": "code",
   "execution_count": null,
   "id": "d0ef2ed8-ec3b-476d-81c9-1700c8bc64aa",
   "metadata": {},
   "outputs": [],
   "source": []
  },
  {
   "cell_type": "code",
   "execution_count": null,
   "id": "c48614f6-f2b6-48ee-9b60-8e330da82b86",
   "metadata": {},
   "outputs": [],
   "source": []
  },
  {
   "cell_type": "code",
   "execution_count": null,
   "id": "05ada397-13c1-4b86-8872-8a6ba0e9f8e9",
   "metadata": {},
   "outputs": [],
   "source": []
  },
  {
   "cell_type": "code",
   "execution_count": null,
   "id": "6521db7d-d51a-4463-a2da-ac678d989091",
   "metadata": {},
   "outputs": [],
   "source": []
  },
  {
   "cell_type": "code",
   "execution_count": null,
   "id": "53b0c5cc-b3a1-4f8b-b87b-73f203005334",
   "metadata": {},
   "outputs": [],
   "source": []
  },
  {
   "cell_type": "code",
   "execution_count": null,
   "id": "c9b60e2e-be78-48f8-b498-1b4377631c4b",
   "metadata": {},
   "outputs": [],
   "source": []
  },
  {
   "cell_type": "code",
   "execution_count": null,
   "id": "f0439456-f3bf-49de-a6be-ae6f8731e2eb",
   "metadata": {},
   "outputs": [],
   "source": []
  },
  {
   "cell_type": "code",
   "execution_count": null,
   "id": "3fbc024c-79c6-4d94-bf7b-836b97416767",
   "metadata": {},
   "outputs": [],
   "source": []
  },
  {
   "cell_type": "code",
   "execution_count": null,
   "id": "b10c9296-f3f6-4cee-82d4-e734341c1fb7",
   "metadata": {},
   "outputs": [],
   "source": []
  },
  {
   "cell_type": "code",
   "execution_count": null,
   "id": "5f4aed52-a92a-466a-846c-caaf4d2ef02b",
   "metadata": {},
   "outputs": [],
   "source": []
  },
  {
   "cell_type": "code",
   "execution_count": null,
   "id": "4a1c6198-8edd-4621-926e-be8f66fa1b64",
   "metadata": {},
   "outputs": [],
   "source": []
  },
  {
   "cell_type": "code",
   "execution_count": null,
   "id": "49dc89c5-2b6a-4103-a527-767267dba0d3",
   "metadata": {},
   "outputs": [],
   "source": []
  },
  {
   "cell_type": "code",
   "execution_count": null,
   "id": "7a2940f9-1ea8-4c9f-98d3-77f50e83dac3",
   "metadata": {},
   "outputs": [],
   "source": []
  },
  {
   "cell_type": "code",
   "execution_count": null,
   "id": "12736ec3-ad56-4d87-b633-c565b615d005",
   "metadata": {},
   "outputs": [],
   "source": []
  },
  {
   "cell_type": "code",
   "execution_count": null,
   "id": "9de622a7-3bf3-48f8-b950-0f8618dd6ef0",
   "metadata": {},
   "outputs": [],
   "source": []
  },
  {
   "cell_type": "code",
   "execution_count": null,
   "id": "9726967b-31ba-4657-afce-bb4e64e167a1",
   "metadata": {},
   "outputs": [],
   "source": []
  },
  {
   "cell_type": "code",
   "execution_count": null,
   "id": "616333af-4276-489a-b1be-0638aac0bcac",
   "metadata": {},
   "outputs": [],
   "source": []
  },
  {
   "cell_type": "code",
   "execution_count": null,
   "id": "9aa77d7a-bbfc-481c-aa95-ae7501d37446",
   "metadata": {},
   "outputs": [],
   "source": []
  },
  {
   "cell_type": "code",
   "execution_count": null,
   "id": "8154059b-31a5-4ccf-b3dd-5ce03ea4cf29",
   "metadata": {},
   "outputs": [],
   "source": []
  },
  {
   "cell_type": "code",
   "execution_count": null,
   "id": "f3f0d8e4-fe87-4ef3-9423-db710dc8dfd6",
   "metadata": {},
   "outputs": [],
   "source": []
  },
  {
   "cell_type": "code",
   "execution_count": null,
   "id": "36db1e39-2d72-4cba-ae24-6aa2b901d226",
   "metadata": {},
   "outputs": [],
   "source": []
  },
  {
   "cell_type": "code",
   "execution_count": null,
   "id": "98b19cda-db30-48f8-8efb-5e4856eaabc4",
   "metadata": {},
   "outputs": [],
   "source": []
  },
  {
   "cell_type": "code",
   "execution_count": null,
   "id": "f82908bb-90a7-4769-b7b1-9b6bb11fd60b",
   "metadata": {},
   "outputs": [],
   "source": []
  },
  {
   "cell_type": "code",
   "execution_count": null,
   "id": "8daf5585-cd5d-4406-b8c1-b27c63bb4a8f",
   "metadata": {},
   "outputs": [],
   "source": []
  },
  {
   "cell_type": "code",
   "execution_count": null,
   "id": "280ed8d7-8c82-4f36-8a27-787f874025bf",
   "metadata": {},
   "outputs": [],
   "source": []
  },
  {
   "cell_type": "code",
   "execution_count": null,
   "id": "2715db2a-ee13-4544-98a4-c8516a588335",
   "metadata": {},
   "outputs": [],
   "source": []
  },
  {
   "cell_type": "code",
   "execution_count": null,
   "id": "a8715cb6-a178-4669-a51a-7d9ddaac30e5",
   "metadata": {},
   "outputs": [],
   "source": []
  },
  {
   "cell_type": "code",
   "execution_count": null,
   "id": "c9ae807e-98b1-4d1e-ac91-8bff6e8ff868",
   "metadata": {},
   "outputs": [],
   "source": []
  },
  {
   "cell_type": "code",
   "execution_count": null,
   "id": "03764905-eff5-4c3c-9dde-b848ddc2ca8e",
   "metadata": {},
   "outputs": [],
   "source": []
  },
  {
   "cell_type": "code",
   "execution_count": null,
   "id": "a24189da-0917-4d70-8d4d-c79c147f4838",
   "metadata": {},
   "outputs": [],
   "source": []
  },
  {
   "cell_type": "code",
   "execution_count": null,
   "id": "b904194a-bf75-4691-bbd0-31cc767c6712",
   "metadata": {},
   "outputs": [],
   "source": []
  },
  {
   "cell_type": "code",
   "execution_count": null,
   "id": "dbb13699-08a4-4318-acd0-25ccc66c6774",
   "metadata": {},
   "outputs": [],
   "source": []
  },
  {
   "cell_type": "code",
   "execution_count": null,
   "id": "29f6586c-85b2-4068-a6fd-9f71856815bf",
   "metadata": {},
   "outputs": [],
   "source": []
  },
  {
   "cell_type": "code",
   "execution_count": null,
   "id": "f894b41d-afd8-4867-9940-29bfea4dbb92",
   "metadata": {},
   "outputs": [],
   "source": []
  },
  {
   "cell_type": "code",
   "execution_count": null,
   "id": "0771f673-31ad-4127-bd7c-55501b18e56c",
   "metadata": {},
   "outputs": [],
   "source": []
  },
  {
   "cell_type": "code",
   "execution_count": null,
   "id": "13af5581-c498-4591-b55a-b5616e0616c8",
   "metadata": {},
   "outputs": [],
   "source": []
  },
  {
   "cell_type": "code",
   "execution_count": null,
   "id": "48cbc8e0-f5ee-4815-a4bc-06b80201f4e5",
   "metadata": {},
   "outputs": [],
   "source": []
  },
  {
   "cell_type": "code",
   "execution_count": null,
   "id": "569055ae-7245-4f29-8857-329521cf2d50",
   "metadata": {},
   "outputs": [],
   "source": []
  },
  {
   "cell_type": "code",
   "execution_count": null,
   "id": "c05ee96f-d883-485a-aa3f-c4a1d85b1307",
   "metadata": {},
   "outputs": [],
   "source": []
  },
  {
   "cell_type": "code",
   "execution_count": null,
   "id": "55c50f40-1254-4eee-9436-dbac2ec12b9c",
   "metadata": {},
   "outputs": [],
   "source": []
  },
  {
   "cell_type": "code",
   "execution_count": null,
   "id": "c0f49402-c2b6-4bc2-a721-297ed136f26a",
   "metadata": {},
   "outputs": [],
   "source": []
  },
  {
   "cell_type": "code",
   "execution_count": null,
   "id": "409a0ec4-c537-47fb-9b55-9718700a51c7",
   "metadata": {},
   "outputs": [],
   "source": []
  },
  {
   "cell_type": "code",
   "execution_count": null,
   "id": "854472df-839d-4615-9e2d-1a81b458dde3",
   "metadata": {},
   "outputs": [],
   "source": []
  },
  {
   "cell_type": "code",
   "execution_count": null,
   "id": "da90706b-e7b0-46a9-b235-cb182c5f16f7",
   "metadata": {},
   "outputs": [],
   "source": []
  },
  {
   "cell_type": "code",
   "execution_count": null,
   "id": "5980902b-51d4-47df-8d57-2e6cd089e280",
   "metadata": {},
   "outputs": [],
   "source": []
  },
  {
   "cell_type": "code",
   "execution_count": null,
   "id": "bcbd05ae-0f01-4ea7-8e35-fed99b0159d5",
   "metadata": {},
   "outputs": [],
   "source": []
  },
  {
   "cell_type": "code",
   "execution_count": null,
   "id": "e08b555c-bb88-4877-a48a-c9c661e4173c",
   "metadata": {},
   "outputs": [],
   "source": []
  },
  {
   "cell_type": "code",
   "execution_count": null,
   "id": "bc464fcf-1fbb-4bc4-93e6-226ee612b6dc",
   "metadata": {},
   "outputs": [],
   "source": []
  },
  {
   "cell_type": "code",
   "execution_count": null,
   "id": "14b9a753-aa5d-4f4d-a67c-fcf59ccde1c8",
   "metadata": {},
   "outputs": [],
   "source": []
  },
  {
   "cell_type": "code",
   "execution_count": null,
   "id": "a8e9ba96-5278-480d-944d-09275158d75c",
   "metadata": {},
   "outputs": [],
   "source": []
  },
  {
   "cell_type": "code",
   "execution_count": null,
   "id": "48dd3890-03b7-43e4-982c-2c8d867b4092",
   "metadata": {},
   "outputs": [],
   "source": []
  },
  {
   "cell_type": "code",
   "execution_count": null,
   "id": "02611227-1cd8-4123-b1da-475879b86b7d",
   "metadata": {},
   "outputs": [],
   "source": []
  },
  {
   "cell_type": "code",
   "execution_count": null,
   "id": "da4e7481-4a05-4b97-8463-35dbd87c6563",
   "metadata": {},
   "outputs": [],
   "source": []
  },
  {
   "cell_type": "code",
   "execution_count": null,
   "id": "6ad8beff-9f83-4af0-ab18-dd1ffcb54d66",
   "metadata": {},
   "outputs": [],
   "source": []
  },
  {
   "cell_type": "code",
   "execution_count": null,
   "id": "aeb91516-47cd-4bd3-b212-05d92ff9e372",
   "metadata": {},
   "outputs": [],
   "source": []
  },
  {
   "cell_type": "code",
   "execution_count": null,
   "id": "874f270f-10e9-4cf4-8534-31222152f5d4",
   "metadata": {},
   "outputs": [],
   "source": []
  },
  {
   "cell_type": "code",
   "execution_count": null,
   "id": "0b9558e8-0333-4e3f-9daa-095cab16cbdf",
   "metadata": {},
   "outputs": [],
   "source": []
  },
  {
   "cell_type": "code",
   "execution_count": null,
   "id": "5af2b60f-0f1e-4377-b0e0-f6e01893c4e5",
   "metadata": {},
   "outputs": [],
   "source": []
  },
  {
   "cell_type": "code",
   "execution_count": null,
   "id": "feeb5e4c-d005-4772-814e-acb995237a8d",
   "metadata": {},
   "outputs": [],
   "source": []
  },
  {
   "cell_type": "code",
   "execution_count": null,
   "id": "1d00140f-c590-4fe0-9661-0252626065ec",
   "metadata": {},
   "outputs": [],
   "source": []
  },
  {
   "cell_type": "code",
   "execution_count": null,
   "id": "5c54c3c0-d994-45e6-a9ed-e193c8de1a76",
   "metadata": {},
   "outputs": [],
   "source": []
  },
  {
   "cell_type": "code",
   "execution_count": null,
   "id": "06a92859-2f45-4014-bc23-ae45c8509cdc",
   "metadata": {},
   "outputs": [],
   "source": []
  },
  {
   "cell_type": "code",
   "execution_count": null,
   "id": "484ceb6a-322c-4c0e-bd92-4b98450fe2f9",
   "metadata": {},
   "outputs": [],
   "source": []
  },
  {
   "cell_type": "code",
   "execution_count": null,
   "id": "3b096fbb-c236-4bea-bf71-b88580f02868",
   "metadata": {},
   "outputs": [],
   "source": []
  },
  {
   "cell_type": "code",
   "execution_count": null,
   "id": "be445126-b04f-4538-82e5-08b2457d6577",
   "metadata": {},
   "outputs": [],
   "source": []
  },
  {
   "cell_type": "code",
   "execution_count": null,
   "id": "e1d8cc49-c127-4adc-88ea-b0a0b2eaa5b1",
   "metadata": {},
   "outputs": [],
   "source": []
  },
  {
   "cell_type": "code",
   "execution_count": null,
   "id": "5173d0f8-7baa-44e4-a31d-cfd84112391b",
   "metadata": {},
   "outputs": [],
   "source": []
  },
  {
   "cell_type": "code",
   "execution_count": null,
   "id": "d0e917ba-bf00-48f7-8b2b-407b02abbfe0",
   "metadata": {},
   "outputs": [],
   "source": []
  },
  {
   "cell_type": "code",
   "execution_count": null,
   "id": "af92e0ad-0ac8-4bb4-86cd-d39e1bb774a2",
   "metadata": {},
   "outputs": [],
   "source": []
  },
  {
   "cell_type": "code",
   "execution_count": null,
   "id": "18309f69-74ab-46ae-8ee9-c22873e95f9d",
   "metadata": {},
   "outputs": [],
   "source": []
  },
  {
   "cell_type": "code",
   "execution_count": null,
   "id": "8506cddf-5796-4e4f-b5ff-2d1da08df5cb",
   "metadata": {},
   "outputs": [],
   "source": []
  },
  {
   "cell_type": "code",
   "execution_count": null,
   "id": "72789a20-ad82-4bca-a259-a6c64ba78b43",
   "metadata": {},
   "outputs": [],
   "source": []
  },
  {
   "cell_type": "code",
   "execution_count": null,
   "id": "6995605c-db12-41d6-87e5-fd333d931e07",
   "metadata": {},
   "outputs": [],
   "source": []
  },
  {
   "cell_type": "code",
   "execution_count": null,
   "id": "c0e69aae-90de-4036-9850-b9b10d94702e",
   "metadata": {},
   "outputs": [],
   "source": []
  },
  {
   "cell_type": "code",
   "execution_count": null,
   "id": "9213407c-b09b-401f-b427-ed2e007d9b0b",
   "metadata": {},
   "outputs": [],
   "source": []
  },
  {
   "cell_type": "code",
   "execution_count": null,
   "id": "91578181-0569-4790-aff4-4f9ae1d3a4c3",
   "metadata": {},
   "outputs": [],
   "source": []
  },
  {
   "cell_type": "code",
   "execution_count": null,
   "id": "ba1de2ed-5784-4f26-bd23-b191b3db1eba",
   "metadata": {},
   "outputs": [],
   "source": []
  },
  {
   "cell_type": "code",
   "execution_count": null,
   "id": "be3b0395-eed9-4386-bfad-7fbd5c945459",
   "metadata": {},
   "outputs": [],
   "source": []
  },
  {
   "cell_type": "code",
   "execution_count": null,
   "id": "98ad29bf-ea11-4015-a7f0-b55e9afbd437",
   "metadata": {},
   "outputs": [],
   "source": []
  },
  {
   "cell_type": "code",
   "execution_count": null,
   "id": "b5f4f5ad-b6ff-4169-8007-e5b382923926",
   "metadata": {},
   "outputs": [],
   "source": []
  },
  {
   "cell_type": "code",
   "execution_count": null,
   "id": "5233ab81-3550-440b-bb2a-36a64613355d",
   "metadata": {},
   "outputs": [],
   "source": []
  },
  {
   "cell_type": "code",
   "execution_count": null,
   "id": "e526274a-1b81-432b-87a8-2e414b0f2c88",
   "metadata": {},
   "outputs": [],
   "source": []
  },
  {
   "cell_type": "code",
   "execution_count": null,
   "id": "ca870613-4089-4e36-bc71-1d15e80d18fb",
   "metadata": {},
   "outputs": [],
   "source": []
  }
 ],
 "metadata": {
  "kernelspec": {
   "display_name": "Python 3 (ipykernel)",
   "language": "python",
   "name": "python3"
  },
  "language_info": {
   "codemirror_mode": {
    "name": "ipython",
    "version": 3
   },
   "file_extension": ".py",
   "mimetype": "text/x-python",
   "name": "python",
   "nbconvert_exporter": "python",
   "pygments_lexer": "ipython3",
   "version": "3.12.7"
  }
 },
 "nbformat": 4,
 "nbformat_minor": 5
}
